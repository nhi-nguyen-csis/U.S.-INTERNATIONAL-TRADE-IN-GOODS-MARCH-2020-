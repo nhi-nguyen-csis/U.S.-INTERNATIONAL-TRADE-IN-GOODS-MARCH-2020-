{
 "cells": [
  {
   "cell_type": "markdown",
   "metadata": {},
   "source": [
    "\n",
    "## U.S. INTERNATIONAL TRADE IN GOODS (MARCH 2020)\n",
    "\n",
    "### The purpose of this project:\n",
    "\n",
    "This project aims to explore changes in international trade in the U.S. during the Coronavirus outbreak, and thus to further our understanding of the impacts of this epidemic on economic growth.\n",
    "\n",
    "As we know, a novel virus called COVID-19 began in Wuhan, China in around December 2019; it has spread to almost every country. The virus transmissions have killed hundreds of thousands of people around the world and continue to be one of the most dangerous global pandemics in the 21st century. It has caused many cities and countries in quarantine and leading to countless businesses to lockdown. \n",
    "\n",
    "It has been six months since the virus happened in China, but its huge influences are kept continuing - disrupting the global supply chain, business operations, and manufactoring activities which results in the decrease in consumer spending, the collapse of many corporations, and higher unemployment rate.\n",
    "\n",
    "Although this project only studies how coronavirus negatively impacts economic activities in March 2020, it can give us a better picture of how a novel virus can be a game-changer for global trades and the development of technology in the future.\n",
    " \n"
   ]
  },
  {
   "cell_type": "markdown",
   "metadata": {},
   "source": [
    "## 1. Guessing game:\n",
    "### a. Do you know what country has the most goods exported to the U.S. in March 2020?"
   ]
  },
  {
   "cell_type": "code",
   "execution_count": null,
   "metadata": {},
   "outputs": [],
   "source": [
    "import tkinter as tk\n",
    "from tkinter import Button\n",
    "\n",
    "root = tk.Tk()\n",
    "\n",
    "v = tk.IntVar()\n",
    "\n",
    "v.set(2)  # initializing the choice to Canada\n",
    "\n",
    "importCountriesGuess = [\n",
    "    (\"China\"),\n",
    "    (\"Mexico\"),\n",
    "    (\"India\"),\n",
    "    (\"Canada\"),\n",
    "    (\"Japan\")\n",
    "]\n",
    "\n",
    "def ShowAnswer():\n",
    "#     label.config(state=\"disabled\")\n",
    "    if v.get() == 1:\n",
    "        print(\"You are correct!\")\n",
    "    else:\n",
    "        print(\"Sorry! Your guess is wrong. Mexico is the correct answer\")\n",
    "\n",
    "tk.Label(root, \n",
    "         text=\"Who is the biggest exporter to the U.S. in March 2020?\",\n",
    "         justify = tk.LEFT,\n",
    "         padx = 20).pack()\n",
    "\n",
    "for val, city in enumerate(importCountriesGuess):\n",
    "    tk.Radiobutton(root, \n",
    "                  text=city,\n",
    "                  padx = 20, \n",
    "                  variable=v, \n",
    "                  command=ShowAnswer,\n",
    "                  value=val).pack(anchor=tk.W)\n",
    "\n",
    "Button(root, text=\"Quit\", command=root.destroy).pack()\n",
    "\n",
    "root.mainloop()"
   ]
  },
  {
   "cell_type": "markdown",
   "metadata": {},
   "source": [
    "### b. Do you know what country has the most U.S. goods imported in March 2020?"
   ]
  },
  {
   "cell_type": "code",
   "execution_count": null,
   "metadata": {},
   "outputs": [],
   "source": [
    "import tkinter as tk\n",
    "from tkinter import Button\n",
    "\n",
    "root = tk.Tk()\n",
    "\n",
    "v = tk.IntVar()\n",
    "\n",
    "v.set(0)  # initializing the choice to Canada\n",
    "\n",
    "importCountriesGuess = [\n",
    "    (\"China\"),\n",
    "    (\"Mexico\"),\n",
    "    (\"Germany\"),\n",
    "    (\"Canada\"),\n",
    "    (\"United Kingdom\")\n",
    "]\n",
    "\n",
    "def ShowAnswer():\n",
    "#     label.config(state=\"disabled\")\n",
    "    if v.get() == 3:\n",
    "        print(\"You are correct!\")\n",
    "    else:\n",
    "        print(\"Sorry! Your guess is wrong. Canada is the correct answer\")\n",
    "\n",
    "tk.Label(root, \n",
    "         text=\"What country has the most U.S. goods imported in March 2020?\",\n",
    "         justify = tk.LEFT,\n",
    "         padx = 20).pack()\n",
    "\n",
    "for val, city in enumerate(importCountriesGuess):\n",
    "    tk.Radiobutton(root, \n",
    "                  text=city,\n",
    "                  padx = 20, \n",
    "                  variable=v, \n",
    "                  command=ShowAnswer,\n",
    "                  value=val).pack(anchor=tk.W)\n",
    "\n",
    "Button(root, text=\"Quit\", command=root.destroy).pack()\n",
    "\n",
    "root.mainloop()"
   ]
  },
  {
   "cell_type": "markdown",
   "metadata": {},
   "source": [
    "## 2. List of Top Trading Partners \n",
    "\n",
    "The guessing game above has revealed which country is the biggest importer of U.S. goods and which country is the top exporter to the U.S. The table below shows the list of top 15 U.S trading partners in March 2020 with more information. \n",
    "\n",
    "All the [data](https://www.census.gov/foreign-trade/statistics/highlights/top/top2003yr.html\n",
    "\"optional title\") was collected by The U.S. Census Bureau and the U.S. Bureau of Economic Analysis"
   ]
  },
  {
   "cell_type": "code",
   "execution_count": 3,
   "metadata": {
    "scrolled": true
   },
   "outputs": [
    {
     "name": "stdout",
     "output_type": "stream",
     "text": [
      "           Country  Exports  Imports  Total Trade Percent of Total Trade\n",
      "0           Mexico     60.3     87.5        147.8                 15.30%\n",
      "1           Canada     69.3     74.9        144.2                 14.90%\n",
      "2            China     22.0     75.9         97.9                 10.10%\n",
      "3            Japan     18.1     33.3         51.4                  5.30%\n",
      "4          Germany     15.8     31.0         46.9                  4.90%\n",
      "5     Korea, South     14.5     18.6         33.1                  3.40%\n",
      "6   United Kingdom     17.8     14.1         31.9                  3.30%\n",
      "7            India      8.7     14.0         22.7                  2.40%\n",
      "8           Taiwan      8.3     13.4         21.7                  2.20%\n",
      "9           France      9.9     11.5         21.4                  2.20%\n",
      "10     Netherlands     13.4      7.3         20.7                  2.10%\n",
      "11         Vietnam      2.9     17.3         20.3                  2.10%\n",
      "12         Ireland      2.4     17.4         19.8                  2.00%\n",
      "13           Italy      5.8     12.8         18.6                  1.90%\n",
      "14     Switzerland      3.9     13.2         17.2                  1.80%\n"
     ]
    }
   ],
   "source": [
    "# import all libraries needed\n",
    "\n",
    "from pandas import DataFrame, read_csv\n",
    "import matplotlib.pyplot as plt\n",
    "import pandas as pd \n",
    "import numpy as np\n",
    "import sys #only needed to determine Python version number\n",
    "\n",
    "# Enable inline plotting\n",
    "%matplotlib inline\n",
    "\n",
    "filename = 'InternationalTrade.csv'\n",
    "data = pd.read_csv(filename)\n",
    "print(data)"
   ]
  },
  {
   "cell_type": "markdown",
   "metadata": {},
   "source": [
    "## 3. Overview of US International Trade"
   ]
  },
  {
   "cell_type": "code",
   "execution_count": null,
   "metadata": {},
   "outputs": [],
   "source": [
    "import numpy as np\n",
    "cities = np.array(data.Country)\n",
    "imports = np.array(data.Imports)\n",
    "exports = np.array(data.Exports)\n",
    "plt.plot(cities, imports,\n",
    "         cities, exports)\n",
    "\n",
    "plt.xticks(rotation = 90, fontsize = 14)\n",
    "plt.ylabel('Total Trade in billion dollars', fontsize = 15)\n",
    "\n",
    "plt.axis(['Mexico', 'Switzerland', 0,100], fontsize = 100)\n",
    "plt.yticks([0, 20, 40, 60, 80, 100],\n",
    "           ['0', '20B', '40B', '60B', '80B', '100B'], fontsize = 14)\n",
    "\n",
    "#make the graph bigger\n",
    "fig = plt.gcf()\n",
    "fig.set_size_inches(7, 7)\n",
    "\n",
    "plt.title(\"Top 15 trade partners in March 2020\", fontsize = 20)\n",
    "plt.show()"
   ]
  },
  {
   "cell_type": "markdown",
   "metadata": {},
   "source": [
    "## Analysis:\n",
    "\n",
    "Looking at the graph above, we can see there are only 2 countries among the top 15 ones, America exported goods to their countries more than they exported goods to the U.S. Those countries are the United Kingdom and the Netherlands. The U.S. got a trade surplus with the U.K and the Netherlands of 3.7 billion and 6.1 billion dollars, respectively. It is surprising that the U.S. obtained benefits from trading with the UK while America is well-known the biggest exporting market from which the UK gained the most through trade for many years. \n",
    "\n",
    "However, on the overall, American ran a trade deficit totaling 44.4 billion dollars in 03/2020. Mexico, China, and Canada are still the three earned the most when trading with America. This happened when a dollar has more value compared to other currencies making imported products cheaper, but also making the U.S. exports more expensive for foreign consumers. The trade deficit is unavoidable when the U.S. economy grows - American buyers have a higher income and higher demand to buy more foreign goods. Nevertheless, a large and long-term deficit can lead to bigger national debts, and thus threaten the health of the economy. This is especially important to be considered in the future trade policy when the coronavirus disease is now hitting America more than any other country in the world."
   ]
  },
  {
   "cell_type": "markdown",
   "metadata": {},
   "source": [
    "## 4. Top 5 countries partners"
   ]
  },
  {
   "cell_type": "code",
   "execution_count": 4,
   "metadata": {
    "scrolled": true
   },
   "outputs": [
    {
     "data": {
      "text/html": [
       "<div>\n",
       "<style scoped>\n",
       "    .dataframe tbody tr th:only-of-type {\n",
       "        vertical-align: middle;\n",
       "    }\n",
       "\n",
       "    .dataframe tbody tr th {\n",
       "        vertical-align: top;\n",
       "    }\n",
       "\n",
       "    .dataframe thead th {\n",
       "        text-align: right;\n",
       "    }\n",
       "</style>\n",
       "<table border=\"1\" class=\"dataframe\">\n",
       "  <thead>\n",
       "    <tr style=\"text-align: right;\">\n",
       "      <th></th>\n",
       "      <th>COUNTRIES</th>\n",
       "      <th>EXPORTS (in billion dollars)</th>\n",
       "      <th>COUNTRIES</th>\n",
       "      <th>IMPORTS (in billion dollars)</th>\n",
       "    </tr>\n",
       "  </thead>\n",
       "  <tbody>\n",
       "    <tr>\n",
       "      <th>0</th>\n",
       "      <td>Canada</td>\n",
       "      <td>69.3</td>\n",
       "      <td>Mexico</td>\n",
       "      <td>87.5</td>\n",
       "    </tr>\n",
       "    <tr>\n",
       "      <th>1</th>\n",
       "      <td>Mexico</td>\n",
       "      <td>60.3</td>\n",
       "      <td>Canada</td>\n",
       "      <td>74.9</td>\n",
       "    </tr>\n",
       "    <tr>\n",
       "      <th>2</th>\n",
       "      <td>China</td>\n",
       "      <td>22.0</td>\n",
       "      <td>China</td>\n",
       "      <td>75.9</td>\n",
       "    </tr>\n",
       "    <tr>\n",
       "      <th>3</th>\n",
       "      <td>Japan</td>\n",
       "      <td>18.1</td>\n",
       "      <td>Japan</td>\n",
       "      <td>33.3</td>\n",
       "    </tr>\n",
       "    <tr>\n",
       "      <th>4</th>\n",
       "      <td>United Kingdom</td>\n",
       "      <td>17.8</td>\n",
       "      <td>Germany</td>\n",
       "      <td>31.0</td>\n",
       "    </tr>\n",
       "  </tbody>\n",
       "</table>\n",
       "</div>"
      ],
      "text/plain": [
       "        COUNTRIES  EXPORTS (in billion dollars) COUNTRIES  \\\n",
       "0          Canada                          69.3    Mexico   \n",
       "1          Mexico                          60.3    Canada   \n",
       "2           China                          22.0     China   \n",
       "3           Japan                          18.1     Japan   \n",
       "4  United Kingdom                          17.8   Germany   \n",
       "\n",
       "   IMPORTS (in billion dollars)  \n",
       "0                          87.5  \n",
       "1                          74.9  \n",
       "2                          75.9  \n",
       "3                          33.3  \n",
       "4                          31.0  "
      ]
     },
     "execution_count": 4,
     "metadata": {},
     "output_type": "execute_result"
    }
   ],
   "source": [
    "cities = np.array(data.Country)\n",
    "imports = np.array(data.Imports)\n",
    "exports = np.array(data.Exports)\n",
    "citiesIm = list(zip(cities, imports))\n",
    "citiesEx = list(zip(cities, exports))\n",
    "\n",
    "ExportCities = sorted(citiesEx, key = lambda city: city[1])[::-1]\n",
    "df1 = pd.DataFrame(data = ExportCities[:5], columns=['COUNTRIES', 'EXPORTS (in billion dollars)'])\n",
    "\n",
    "df2 = pd.DataFrame(data = citiesIm[:5], columns=['COUNTRIES', 'IMPORTS (in billion dollars)'])\n",
    "\n",
    "horizontal_stack = pd.concat([df1, df2], axis=1)\n",
    "horizontal_stack"
   ]
  },
  {
   "cell_type": "markdown",
   "metadata": {},
   "source": [
    "### Annotation*:\n",
    "\n",
    "There is a little note in the table above, as we can see China imported 75.9 billion dollars more than Canada, but it is ranked after Canada. It is because, in total trade, Canada has 144.2 billion dollars with the U.S. more than China, so it is third-ranked after Mexico and Canada on the list. "
   ]
  },
  {
   "cell_type": "markdown",
   "metadata": {},
   "source": [
    "## Compare the top five partners in the given list"
   ]
  },
  {
   "cell_type": "code",
   "execution_count": null,
   "metadata": {},
   "outputs": [],
   "source": [
    "#extract only the top 5 cities exporting goods to US\n",
    "top_5_export_cities = ExportCities[:5]\n",
    "\n",
    "#convert the list of tuple to an array\n",
    "cityArray1 = np.asarray(top_5_export_cities)\n",
    "\n",
    "ci1 = []\n",
    "ex = []\n",
    "\n",
    "#using for loop to get an array of city and an array of import\n",
    "for i in range(len(cityArray1)):\n",
    "    for j in range(len(cityArray1[i])):\n",
    "        if j == 0:\n",
    "            ci1.append(cityArray1[i][j])\n",
    "        else:\n",
    "            ex.append(cityArray1[i][j])\n",
    "\n",
    "cit1 = np.asarray(ci1)\n",
    "exp = np.asfarray(ex, float)\n",
    "\n",
    "\n",
    "#extract only the top 5 cities importing goods to US\n",
    "top_5_import_cities = citiesIm[:5]\n",
    "\n",
    "#convert the list of tuple to an array\n",
    "cityArray = np.asarray(top_5_import_cities)\n",
    "\n",
    "ci = []\n",
    "im = []\n",
    "\n",
    "#using for loop to get an array of city and an array of import\n",
    "for i in range(len(cityArray)):\n",
    "    for j in range(len(cityArray[i])):\n",
    "        if j == 0:\n",
    "            ci.append(cityArray[i][j])\n",
    "        else:\n",
    "            im.append(cityArray[i][j])\n",
    "\n",
    "cit = np.asarray(ci)\n",
    "imp = np.asfarray(im, float)\n",
    "\n",
    "\n",
    "#draw 2 pie charts\n",
    "fig = plt.gcf()\n",
    "fig.set_size_inches(11,7)\n",
    "\n",
    "#draw pie 1\n",
    "plt.subplot(121) # 1 row, 2 colum, 1st chart is on the left\n",
    "explode = (0.1, 0, 0, 0, 0) \n",
    "plt.pie(exp, explode = explode, labels = cit1, autopct='%1.1f%%', shadow=True, startangle=140)\n",
    "plt.axis('equal') # Equal aspect ratio ensures that pie is drawn as a circle\n",
    "plt.title(\"Top 5 countries U.S. exported\", fontsize=20)\n",
    "\n",
    "#draw pie 2\n",
    "plt.figure(1, figsize=(10, 6))\n",
    "plt.subplot(122) # 1 row, 2 colum, 2nd chart is on the right\n",
    "explode = (0.1, 0, 0, 0, 0)  \n",
    "plt.pie(imp, explode = explode, labels = cit, autopct='%1.1f%%', shadow=True, startangle=140)\n",
    "plt.axis('equal') # Equal aspect ratio ensures that pie is drawn as a circle\n",
    "plt.tight_layout()\n",
    "plt.title(\"Top 5 countries U.S. imported\", fontsize=20)\n",
    "\n",
    "plt.show()"
   ]
  },
  {
   "cell_type": "markdown",
   "metadata": {},
   "source": [
    "## 5. Economic and Technology forecasts\n",
    "\n",
    "As we can see from the graphs above, America imported most of the goods from five countries including China, Mexico, Canada, Japan, and Germany. It is interesting that Mexico was an unexpected winner when replacing China to be the biggest exporters, and Canada even surpassed China to become the second-biggest trading partners with the U.S. The reason is that during February and March, China was struggled desperately to limit new cases and control the epidemic that influenced on manufacturing operations and its supply chain. However, China is now reopening its business and normal life after reporting no new positive cases in many major cities. Therefore, although China was in the third rank, it may again take over their first ranking on the list in the future.\n",
    "\n",
    "Statistics also presents that Canada and Mexico are the two largest importing market of U.S. goods. Some economic experts even further warn Mexico can become the next China because Mexico is continuing a winner of US-China trade wars and the coronavirus crisis. \n",
    "\n",
    "In the context of coronavirus when many startups and small companies are dealing with financial deficits or even filing for bankruptcy; some believe that big tech giants like Amazon, Facebook, or Google with stronger can even become bigger after this pandemic. Nevertheless, there can be a few cases like Zoom, a videoconferencing company, can become the next big tech.\n",
    "\n",
    "This novel coronavirus is spreading around the world showing higher spending on cybersecurity and the bigger role of AI to prevent the public health crisis. During the outbreak, companies, restaurants, or hospitals need more automated technologies to keep their business but also to minimize face-to-face contact. A robot can be used to diagnose simple illness, deliver medications, or communicate with people that can help government staff, workers, especially doctors and nurses, to limit their potential exposure to infectious patients. This global pandemic will inspire more tech companies and AI experts to innovate in artificial intelligence as it can be the key priority to prepare and tackle the next outbreaks.\n"
   ]
  }
 ],
 "metadata": {
  "kernelspec": {
   "display_name": "Python 3",
   "language": "python",
   "name": "python3"
  },
  "language_info": {
   "codemirror_mode": {
    "name": "ipython",
    "version": 3
   },
   "file_extension": ".py",
   "mimetype": "text/x-python",
   "name": "python",
   "nbconvert_exporter": "python",
   "pygments_lexer": "ipython3",
   "version": "3.8.1"
  }
 },
 "nbformat": 4,
 "nbformat_minor": 4
}
